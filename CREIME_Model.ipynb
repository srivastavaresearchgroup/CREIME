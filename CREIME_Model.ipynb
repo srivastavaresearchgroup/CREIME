{
 "cells": [
  {
   "cell_type": "code",
   "execution_count": null,
   "metadata": {},
   "outputs": [],
   "source": [
    "from numpy import loadtxt\n",
    "import numpy as np\n",
    "import matplotlib.pyplot as plt"
   ]
  },
  {
   "cell_type": "code",
   "execution_count": null,
   "metadata": {},
   "outputs": [],
   "source": [
    "def mag_estimation_loss(y_true, y_pred):\n",
    "    \n",
    "    mask = y_true[-1] \n",
    "\n",
    "    return (y_true - y_pred) * mask "
   ]
  },
  {
   "cell_type": "code",
   "execution_count": null,
   "metadata": {},
   "outputs": [],
   "source": [
    "def custom_loss2(y_true, y_pred):\n",
    "    mse = tf.keras.losses.MeanSquaredError()\n",
    "    mae = tf.keras.losses.MeanAbsoluteError()\n",
    "    \n",
    "    weights = [0.4, 0.4, 0.2]\n",
    "    \n",
    "    \n",
    "    return weights[0] * mse(y_true, y_pred) + weights[1] * mae(y_true, y_pred) + weights[2] * mag_estimation_loss(y_true, y_pred)"
   ]
  },
  {
   "cell_type": "code",
   "execution_count": null,
   "metadata": {},
   "outputs": [],
   "source": [
    "import keras\n",
    "\n",
    "model = keras.models.load_model(\"CREIME_Model.h5\", custom_objects = {'custom_loss2': custom_loss2})"
   ]
  },
  {
   "cell_type": "code",
   "execution_count": null,
   "metadata": {},
   "outputs": [],
   "source": [
    "model.summary()"
   ]
  },
  {
   "cell_type": "code",
   "execution_count": null,
   "metadata": {
    "scrolled": true
   },
   "outputs": [],
   "source": [
    "## X = \"path/to/data\"\n",
    "\n",
    "\"\"\" \n",
    "the data represented by the variable X needs to be loaded\n",
    "It must be an array of shape (n, 512, 3) where n is the \n",
    "total number of samples in the test data\n",
    "\"\"\"\n",
    "y_predicted = model.predict(X)"
   ]
  },
  {
   "cell_type": "code",
   "execution_count": null,
   "metadata": {},
   "outputs": [],
   "source": [
    "\"\"\"\n",
    "calculating the predicted p-arrival time (in seconds) \n",
    "starting from the window start time\n",
    "P-arrival is considered to happen at the sample where \n",
    "the predicted sequence crosses the threshold of -0.5\n",
    "\"\"\"\n",
    "\n",
    "p_predicted = (512 - np.array([np.sum((y > -0.5).astype(int)) for y in y_predicted])) / 100"
   ]
  },
  {
   "cell_type": "code",
   "execution_count": null,
   "metadata": {},
   "outputs": [],
   "source": [
    "\"\"\"\n",
    "calculating the predicted magnitude\n",
    "magnitude is considered to be the arithmetic mean \n",
    "of the last 10 samples of the output sequence\n",
    "\"\"\"\n",
    "\n",
    "m_predicted = [np.mean(y[-10:]) for y in y_predicted]"
   ]
  },
  {
   "cell_type": "code",
   "execution_count": null,
   "metadata": {},
   "outputs": [],
   "source": [
    "\"\"\"\n",
    "classifying the data points as event or noise based on predicted magnitude\n",
    "if predicted magnitude is less the -0.5 the waveform is classified as noise\n",
    "n_predicted is an array of 0s and 1s with 0 standing for event and 1 standing for noise\n",
    "\"\"\"\n",
    "\n",
    "n_prediction = [mag < -0.5 for mag in m_predicted]"
   ]
  }
 ],
 "metadata": {
  "kernelspec": {
   "display_name": "Python 3",
   "language": "python",
   "name": "python3"
  },
  "language_info": {
   "codemirror_mode": {
    "name": "ipython",
    "version": 3
   },
   "file_extension": ".py",
   "mimetype": "text/x-python",
   "name": "python",
   "nbconvert_exporter": "python",
   "pygments_lexer": "ipython3",
   "version": "3.8.10"
  }
 },
 "nbformat": 4,
 "nbformat_minor": 4
}
